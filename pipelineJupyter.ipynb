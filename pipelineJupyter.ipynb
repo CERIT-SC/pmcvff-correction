{
 "cells": [
  {
   "cell_type": "code",
   "execution_count": null,
   "metadata": {},
   "outputs": [],
   "source": [
    "#import mdtraj\n",
    "import os\n",
    "\n",
    "from rdkit import Chem\n",
    "from rdkit.Chem import Draw\n",
    "from rdkit.Chem import SDWriter\n",
    "from rdkit.Chem import AllChem\n",
    "from rdkit.Chem import MolFromSmarts\n",
    "from rdkit.Chem import rdmolops\n",
    "from rdkit.Chem import rdchem\n",
    "from molvs import Standardizer"
   ]
  },
  {
   "cell_type": "code",
   "execution_count": null,
   "metadata": {},
   "outputs": [],
   "source": [
    "ifilename = \"molekula.txt\"\n",
    "numc = 50 #00\n",
    "\n",
    "ifile = open(ifilename, \"r\").readlines()\n",
    "molecule = str.split(ifile[0])[0]\n",
    "print(molecule)"
   ]
  }
 ],
 "metadata": {
  "kernelspec": {
   "display_name": "Python 3",
   "language": "python",
   "name": "python3"
  },
  "language_info": {
   "codemirror_mode": {
    "name": "ipython",
    "version": 3
   },
   "file_extension": ".py",
   "mimetype": "text/x-python",
   "name": "python",
   "nbconvert_exporter": "python",
   "pygments_lexer": "ipython3",
   "version": "3.6.8"
  }
 },
 "nbformat": 4,
 "nbformat_minor": 2
}
