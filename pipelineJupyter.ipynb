{
 "cells": [
  {
   "cell_type": "markdown",
   "metadata": {},
   "source": [
    "## 1. Definition of computational parameters"
   ]
  },
  {
   "cell_type": "code",
   "execution_count": null,
   "metadata": {},
   "outputs": [],
   "source": [
    "import os\n",
    "import sys\n",
    "import shutil\n",
    "import re\n",
    "import math\n",
    "import nglview as nv\n",
    "import pytraj as pt\n",
    "\n",
    "#insert path to python scripts\n",
    "sys.path.insert(1, os.environ['BASE'] + \"/modules\")\n",
    "\n",
    "from draw_2d import *\n",
    "from draw_3d import drawit\n",
    "\n",
    "from molvs import Standardizer\n",
    "\n",
    "from rdkit import Chem\n",
    "from rdkit.Chem import Draw\n",
    "from rdkit.Chem import SDWriter\n",
    "from rdkit.Chem import AllChem\n",
    "from rdkit.Chem import MolFromSmarts\n",
    "from rdkit.Chem import rdmolops\n",
    "from rdkit.Chem import rdchem\n",
    "\n",
    "from convert import *\n",
    "from execute_orca import *"
   ]
  },
  {
   "cell_type": "code",
   "execution_count": null,
   "metadata": {},
   "outputs": [],
   "source": [
    "#define parameters\n",
    "\n",
    "ifilename = \"molekula.txt\"\n",
    "gromacs_s = \"/opt/podman-run.py gromacs -p\" #gmx_mpi\n",
    "gromacs_d = \"/opt/podman-run.py gromacs -p -d\" #double precision gromacs\n",
    "plumed = gromacs_s\n",
    "\n",
    "#number of conformers to be generated\n",
    "numc = 50\n",
    "\n",
    "#specify number of abailable cpu's to be used in evaluations (maximum possible on machine by default)\n",
    "num_of_cpus = os.environ['CPUS']"
   ]
  },
  {
   "cell_type": "markdown",
   "metadata": {},
   "source": [
    "## 2. Molecule shape processing"
   ]
  },
  {
   "cell_type": "code",
   "execution_count": null,
   "metadata": {},
   "outputs": [],
   "source": [
    "with open(ifilename, \"r\") as ifile:\n",
    "    molecule = ifile.readlines()\n",
    "smiles_molecule = str.split(molecule[0])[0]\n",
    "\n",
    "molecule = Chem.MolFromSmiles(smiles_molecule)\n",
    "\n",
    "render_svg(moltosvg(molecule))"
   ]
  },
  {
   "cell_type": "code",
   "execution_count": null,
   "metadata": {},
   "outputs": [],
   "source": [
    "with open(\"molekula.smi\", \"w\") as smifile:\n",
    "    smifile.write(smiles_molecule)\n",
    "    \n",
    "s = Standardizer()\n",
    "molecule = s.standardize(molecule)\n",
    "molecule = Chem.AddHs(molecule)\n",
    "natoms = molecule.GetNumAtoms()\n",
    "\n",
    "render_svg(moltosvg(molecule))"
   ]
  },
  {
   "cell_type": "code",
   "execution_count": null,
   "metadata": {},
   "outputs": [],
   "source": [
    "#generate conformations in pseudo-random way and identificate the one with the lowest energy\n",
    "\n",
    "#set default id of minimal energy conformer to -1\n",
    "minid = -1\n",
    "#set default minimal energy to highest possible float number\n",
    "minene = sys.float_info.max\n",
    "\n",
    "molecules = AllChem.EmbedMultipleConfs(molecule, clearConfs=True, numConfs=numc)\n",
    "\n",
    "#run 'MMFF94 force field' energy evaluation",
    "done = AllChem.MMFFOptimizeMoleculeConfs(molecule)\n",
    "\n",
    "for i in range(len(done)):\n",
    "  if done[i][1]<minene:\n",
    "    minene = done[i][1]\n",
    "    minid = i\n",
    "print(f'Minimal energy: {minene}')\n",
    "\n",
    "writer = SDWriter(\"molekula.mol\")\n",
    "writer.write(molecule, confId=minid)\n",
    "\n",
    "drawit(molecule)"
   ]
  },
  {
   "cell_type": "code",
   "execution_count": null,
   "metadata": {},
   "outputs": [],
   "source": [
    "#set pattern to detect torsion angles\n",
    "\n",
    "RotatableBond = Chem.MolFromSmarts('[!$([NH]!@C(=O))&!D1&!$(*#*)&!$([C;H3])&!$([O;H1])&!$([N;H3])]-&!@[!$([NH]!@C(=O))&!D1&!$(*#*)&!$([C;H3])&!$([O;H1])&!$([N;H3])]')\n",
    "rotatables = molecule.GetSubstructMatches(RotatableBond)\n",
    "print(rotatables)"
   ]
  },
  {
   "cell_type": "code",
   "execution_count": null,
   "metadata": {},
   "outputs": [],
   "source": [
    "#get numbers of atoms that form torsion angles\n",
    "\n",
    "torsions = []\n",
    "for rotatable in rotatables:\n",
    "  pairs1 = []\n",
    "  pairs2 = []\n",
    "  for bond in molecule.GetBonds():\n",
    "    if rotatable[0]==bond.GetBeginAtomIdx() and rotatable[1]!=bond.GetEndAtomIdx():\n",
    "      pairs1.append([bond.GetBeginAtomIdx(),bond.GetEndAtomIdx()])\n",
    "    if rotatable[1]==bond.GetBeginAtomIdx() and rotatable[0]!=bond.GetEndAtomIdx():\n",
    "      pairs2.append([bond.GetBeginAtomIdx(),bond.GetEndAtomIdx()])\n",
    "  torsions.append([pairs1[0][1],pairs1[0][0],pairs2[0][0],pairs2[0][1]])\n",
    "print(torsions)"
   ]
  },
  {
   "cell_type": "markdown",
   "metadata": {},
   "source": [
    "## 3. Preparation of environment and molecule"
   ]
  },
  {
   "cell_type": "code",
   "execution_count": null,
   "metadata": {},
   "outputs": [],
   "source": [
    "# prepare input files for energetic minimization\n",
    "\n",
    "netcharge = rdmolops.GetFormalCharge(molecule)\n",
    "!antechamber -i molekula.mol -fi mdl -o molekula.prepi -fo prepi -c bcc -nc {netcharge} && \\\n",
    "parmchk2 -i molekula.prepi -f prepi -o molekula.frcmod && \\\n",
    "tleap -f tleapin.txt && \\\n",
    "acpype -p molekula.prmtop -x molekula.inpcrd\n",
    "\n",
    "!mkdir em\n",
    "with open(\"em/em.mdp\", \"w\") as emfile:\n",
    "    emfile.write(\"integrator          =  steep\\n\")\n",
    "    emfile.write(\"nsteps              =  100000\\n\")\n",
    "    emfile.write(\"emtol               =  0\\n\")\n",
    "    emfile.write(\"emstep              =  0.1\\n\")\n",
    "    emfile.write(\"nstcomm             =  1\\n\")\n",
    "    emfile.write(\"nstxout             =  100\\n\")\n",
    "    emfile.write(\"nstvout             =  100\\n\")\n",
    "    emfile.write(\"nstfout             =  0\\n\")\n",
    "    emfile.write(\"nstlog              =  100\\n\")\n",
    "    emfile.write(\"nstenergy           =  100\\n\")\n",
    "    emfile.write(\"nstlist             =  1\\n\")\n",
    "    emfile.write(\"ns_type             =  grid\\n\")\n",
    "    emfile.write(\"coulombtype         =  cut-off\\n\")\n",
    "    emfile.write(\"rlist               =  1.4\\n\")\n",
    "    emfile.write(\"rcoulomb            =  1.4\\n\")\n",
    "    emfile.write(\"rvdw                =  1.4\\n\")\n",
    "    emfile.write(\"energygrps          =  System\\n\")\n",
    "    emfile.write(\"epsilon-r           =  80\\n\")\n",
    "    emfile.write(\"\\n\")\n",
    "shutil.copy(\"MOL_GMX.gro\", \"em/\")\n",
    "shutil.copy(\"MOL_GMX.top\", \"em/\")"
   ]
  },
  {
   "cell_type": "code",
   "execution_count": null,
   "metadata": {},
   "outputs": [],
   "source": [
    "!{gromacs_s} -w /em -- editconf -f MOL_GMX -o box -c -box 3 3 3 && \\\n",
    "{gromacs_s} -w /em -- grompp -f em.mdp -c box -p MOL_GMX -o em1 && \\\n",
    "{gromacs_d} -w /em -- mdrun -deffnm em1 -ntomp 2 "
   ]
  },
  {
   "cell_type": "code",
   "execution_count": null,
   "metadata": {},
   "outputs": [],
   "source": [
    "#prepare files for getting the molecule to dynamic state\n",
    "\n",
    "!mkdir md\n",
    "with open(\"md/md.mdp\", \"w\") as mdfile:\n",
    "    mdfile.write(\"integrator          = sd\\n\")\n",
    "    mdfile.write(\"nsteps              = 100000\\n\")\n",
    "    mdfile.write(\"dt                  = 0.001\\n\")\n",
    "    mdfile.write(\"nstxout             = 1000\\n\")\n",
    "    mdfile.write(\"nstvout             = 1000\\n\")\n",
    "    mdfile.write(\"nstenergy           = 1000\\n\")\n",
    "    mdfile.write(\"nstlog              = 1000\\n\")\n",
    "    mdfile.write(\"continuation        = no\\n\")\n",
    "    mdfile.write(\"constraints         = none\\n\")\n",
    "    mdfile.write(\"cutoff-scheme       = Verlet\\n\")\n",
    "    mdfile.write(\"ns_type             = grid\\n\")\n",
    "    mdfile.write(\"nstlist             = 1\\n\")\n",
    "    mdfile.write(\"rlist               = 1.4\\n\")\n",
    "    mdfile.write(\"rcoulomb            = 1.4\\n\")\n",
    "    mdfile.write(\"rvdw                = 1.4\\n\")\n",
    "    mdfile.write(\"coulombtype         = cut-off\\n\")\n",
    "    mdfile.write(\"tcoupl              = V-rescale\\n\")\n",
    "    mdfile.write(\"tc-grps             = system\\n\")\n",
    "    mdfile.write(\"tau_t               = 0.1\\n\")\n",
    "    mdfile.write(\"ref_t               = 300\\n\")\n",
    "    mdfile.write(\"pcoupl              = no\\n\")\n",
    "    mdfile.write(\"pbc                 = xyz\\n\")\n",
    "    mdfile.write(\"gen_vel             = yes\\n\")\n",
    "    mdfile.write(\"epsilon-r           = 80\\n\")\n",
    "    mdfile.write(\"\\n\")\n",
    "shutil.copy(\"em/em1.gro\", \"md/\")\n",
    "shutil.copy(\"MOL_GMX.top\", \"md/\")"
   ]
  },
  {
   "cell_type": "code",
   "execution_count": null,
   "metadata": {},
   "outputs": [],
   "source": [
    "!{gromacs_s} -w /md -- grompp -f md.mdp -c em1 -p MOL_GMX -o md1 && \\\n",
    "{gromacs_d} -w /md -- mdrun -deffnm md1 -ntomp 2"
   ]
  },
  {
   "cell_type": "code",
   "execution_count": null,
   "metadata": {},
   "outputs": [],
   "source": [
    "#show trajectory of conformations\n",
    "#select group for trjconv evaluation\n",
    "#Group     0 (         System)\n",
    "#Group     1 (          Other)\n",
    "#Group     2 (            MOL)\n",
    "group = 0\n",
    "\n",
    "!{gromacs_s} -g {group} -w /md -- trjconv -s md1.tpr -f md1.trr -o outTraj.pdb\n",
    "\n",
    "traj = pt.load('md/outTraj.pdb')\n",
    "view = nv.show_pytraj(traj)\n",
    "view"
   ]
  },
  {
   "cell_type": "code",
   "execution_count": null,
   "metadata": {},
   "outputs": [],
   "source": [
    "#fix periodic boundaries errors when the molecule jumps out of the box\n",
    "#select group for trjconv evaluation\n",
    "#Group     0 (         System)\n",
    "#Group     1 (          Other)\n",
    "#Group     2 (            MOL)\n",
    "group = 1\n",
    "\n",
    "for i in range(len(torsions)):\n",
    "  fr = str(float(100-len(torsions)+i)-0.01)\n",
    "  to = str(float(100-len(torsions)+i)+0.01)\n",
    "  !{gromacs_s} -g {group} -w /md -- trjconv -pbc nojump -s md1 -f md1 -o frame{i}.gro -b {fr} -e {to}<<EOF\\n0\\nEOF"
   ]
  },
  {
   "cell_type": "markdown",
   "metadata": {},
   "source": [
    "## 4. Energetic optimisation"
   ]
  },
  {
   "cell_type": "code",
   "execution_count": null,
   "metadata": {},
   "outputs": [],
   "source": [
    "!mkdir mtd\n",
    "with open(\"mtd/mtd.mdp\", \"w\") as mtdfile:\n",
    "    mtdfile.write(\"integrator          = sd\\n\")\n",
    "    mtdfile.write(\"nsteps              = 1000000\\n\")\n",
    "    mtdfile.write(\"dt                  = 0.001\\n\")\n",
    "    mtdfile.write(\"nstxout             = 1000\\n\")\n",
    "    mtdfile.write(\"nstvout             = 1000\\n\")\n",
    "    mtdfile.write(\"nstenergy           = 1000\\n\")\n",
    "    mtdfile.write(\"nstlog              = 1000\\n\")\n",
    "    mtdfile.write(\"continuation        = no\\n\")\n",
    "    mtdfile.write(\"constraints         = none\\n\")\n",
    "    mtdfile.write(\"cutoff-scheme       = Verlet\\n\")\n",
    "    mtdfile.write(\"ns_type             = grid\\n\")\n",
    "    mtdfile.write(\"nstlist             = 1\\n\")\n",
    "    mtdfile.write(\"rlist               = 1.4\\n\")\n",
    "    mtdfile.write(\"rcoulomb            = 1.4\\n\")\n",
    "    mtdfile.write(\"rvdw                = 1.4\\n\")\n",
    "    mtdfile.write(\"coulombtype         = cut-off\\n\")\n",
    "    mtdfile.write(\"tcoupl              = V-rescale\\n\")\n",
    "    mtdfile.write(\"tc-grps             = system\\n\")\n",
    "    mtdfile.write(\"tau_t               = 0.1\\n\")\n",
    "    mtdfile.write(\"ref_t               = 300\\n\")\n",
    "    mtdfile.write(\"pcoupl              = no\\n\")\n",
    "    mtdfile.write(\"pbc                 = xyz\\n\")\n",
    "    mtdfile.write(\"gen_vel             = yes\\n\")\n",
    "    mtdfile.write(\"epsilon-r           = 80\\n\")\n",
    "    mtdfile.write(\"\\n\")"
   ]
  },
  {
   "cell_type": "code",
   "execution_count": null,
   "metadata": {},
   "outputs": [],
   "source": [
    "for i in range(len(torsions)):    \n",
    "    !mkdir mtd/w{i}\n",
    "    with open(\"mtd/w{}/plumed.dat\".format(i), \"w\") as plumeddat:\n",
    "        plumeddat.write(\"RANDOM_EXCHANGES\\n\")\n",
    "        plumeddat.write(\"WHOLEMOLECULES ENTITY0=1-{}\\n\".format(natoms))\n",
    "        for j in range(len(torsions)):\n",
    "            plumeddat.write(\"TORSION ATOMS={},{},{},{} LABEL=cv{}\\n\".format(torsions[j][0],torsions[j][1],torsions[j][2],torsions[j][3],j+1))\n",
    "        plumeddat.write(\"METAD ARG=cv{} HEIGHT=0.5 SIGMA=0.3 PACE=1000 GRID_MIN=-pi GRID_MAX=pi BIASFACTOR=15 LABEL=be\\n\".format(i+1))\n",
    "        cvs = \"\"\n",
    "        for j in range(len(torsions)):\n",
    "            cvs=cvs+\"cv{},\".format(j+1)\n",
    "        cvs = cvs[:-1]\n",
    "        plumeddat.write(\"PRINT ARG={} STRIDE=1000 FILE=COLVAR\\n\".format(cvs))\n",
    "        plumeddat.write(\"PRINT ARG=be.bias STRIDE=1000 FILE=BIAS\\n\")\n",
    "\n",
    "shutil.copy(\"MOL_GMX.top\", \"mtd/\")"
   ]
  },
  {
   "cell_type": "code",
   "execution_count": null,
   "metadata": {},
   "outputs": [],
   "source": [
    "for i in range(len(torsions)):\n",
    "    shutil.copy(\"md/frame{}.gro\".format(i), \"mtd/w{}/\".format(i))\n",
    "    !{gromacs_s} -w /mtd -- grompp -f mtd.mdp -c w{i}/frame{i} -p MOL_GMX -o w{i}/mtd1"
   ]
  },
  {
   "cell_type": "code",
   "execution_count": null,
   "metadata": {},
   "outputs": [],
   "source": [
    "directories = \"\"\n",
    "for i in range(len(torsions)):\n",
    "    directories = directories + \"w{} \".format(i)\n",
    "\n",
    "!{gromacs_d} -n {len(torsions)} -w /mtd -- mdrun -ntomp 1 -deffnm mtd1 -replex 500 -plumed plumed.dat -multidir {directories}"
   ]
  },
  {
   "cell_type": "markdown",
   "metadata": {},
   "source": [
    "## 5. Accurate energy evaluation (Quantum mechanics)"
   ]
  },
  {
   "cell_type": "code",
   "execution_count": null,
   "metadata": {},
   "outputs": [],
   "source": [
    "#select groups for cluster evaluation\n",
    "#Group     0 (         System)\n",
    "#Group     1 (          Other)\n",
    "#Group     2 (            MOL)\n",
    "groups = \"10\"\n",
    "\n",
    "!{gromacs_s} -g {groups} -- cluster -method gromos -cl clustering/outCluster.pdb -s md/md1.tpr -f md/md1.trr\n",
    "\n",
    "\n",
    "#divide all clusters from gmx cluster to single clusters\n",
    "with open(\"clustering/outCluster.pdb\") as input_cluster:\n",
    "    i = 0\n",
    "    outFile = open(\"clustering/outClustersPDB/outCluster{}.pdb\".format(i), \"w\")\n",
    "    for line in input_cluster:\n",
    "        if line != \"ENDMDL\\n\":\n",
    "            outFile.write(line)\n",
    "            continue\n",
    "        outFile.write(\"ENDMDL\\n\")\n",
    "        i += 1\n",
    "        outFile.close()\n",
    "        outFile = open(\"clustering/outClustersPDB/outCluster{}.pdb\".format(i), \"w\")\n",
    "!rm clustering/outClustersPDB/outCluster{i}.pdb\n",
    "clusters_count = i\n",
    "\n",
    "\n",
    "#convert .pdb clusters to .xyz\n",
    "for pdb_cluster in os.listdir(\"clustering/outClustersPDB/\"):\n",
    "    !babel -ipdb clustering/outClustersPDB/{pdb_cluster} -oxyz clustering/outClustersXYZ/{pdb_cluster.replace(\"pdb\", \"xyz\")}"
   ]
  },
  {
   "cell_type": "code",
   "execution_count": null,
   "metadata": {},
   "outputs": [],
   "source": [
    "#Orca method description - first line in orca method\n",
    "method_description = \"!AM1 Opt\"\n",
    "\n",
    "\n",
    "convert_to_orca_methods(\"clustering/outClustersXYZ/\", \"am1/input/\", torsions, method_description, num_of_cpus)"
   ]
  },
  {
   "cell_type": "code",
   "execution_count": null,
   "metadata": {},
   "outputs": [],
   "source": [
    "#minimisation of conformations before quantum mechanics\n",
    "execute_orca(\"am1/input/\", \"am1/output/\", \"am1\")"
   ]
  },
  {
   "cell_type": "code",
   "execution_count": null,
   "metadata": {},
   "outputs": [],
   "source": [
    "#Orca method description - first line in orca method\n",
    "method_description = \"!BP86 def2-TZVP TightSCF Opt\"\n",
    "\n",
    "\n",
    "for i in range(0, clusters_count):\n",
    "    convert_to_orca_methods(\"am1/output/outCluster{}/\".format(i), \"bp86/input/\", torsions, method_description, num_of_cpus)"
   ]
  },
  {
   "cell_type": "code",
   "execution_count": null,
   "metadata": {},
   "outputs": [],
   "source": [
    "#run quantum mechanics\n",
    "execute_orca(\"bp86/input/\", \"bp86/output/\", \"bp86\")"
   ]
  },
  {
   "cell_type": "code",
   "execution_count": null,
   "metadata": {},
   "outputs": [],
   "source": [
    "#extract final energies from output of orca\n",
    "\n",
    "with open(\"orca_energies.txt\", \"a\") as ofile:\n",
    "    for orca_output in os.listdir(\"orca_output/bp86\"):    \n",
    "        with open(\"orca_output/bp86/\" + orca_output) as iorca_output:\n",
    "            for line in reversed(list(iorca_output)):\n",
    "                energy_list = re.findall(r'(FINAL SINGLE POINT ENERGY)( +)(-?\\d+\\.\\d+)', line)\n",
    "                if len(energy_list) > 0:\n",
    "                    ofile.write(energy_list[0][2])\n",
    "                    ofile.write('\\n')\n",
    "                    break"
   ]
  },
  {
   "cell_type": "code",
   "execution_count": null,
   "metadata": {},
   "outputs": [],
   "source": [
    "#convert from hartree to kJ/mol and write quantum mechanics energies to file\n",
    "\n",
    "energies_in_hartree = []\n",
    "with open(\"orca_energies.txt\", \"r\") as ifile:\n",
    "    for line in ifile.readlines():\n",
    "        energies_in_hartree.append(float(line))\n",
    "\n",
    "#constant to convert from hartree to kJ/mol\n",
    "CONVERSION_CONST = 2625.499638\n",
    "minimum = min(energies_in_hartree)\n",
    "\n",
    "energies_in_kJ = []\n",
    "for H in energies_in_hartree:\n",
    "    energies_in_kJ.append((H-minimum)*CONVERSION_CONST)\n",
    "\n",
    "with open(\"orca_energies.txt\", \"w\") as ofile:\n",
    "    for energy in energies_in_kJ:\n",
    "        ofile.write(\"{}\\n\".format(energy))"
   ]
  },
  {
   "cell_type": "markdown",
   "metadata": {},
   "source": [
    "## 6. Inaccurate energy evaluation (GAFF force field)"
   ]
  },
  {
   "cell_type": "code",
   "execution_count": null,
   "metadata": {},
   "outputs": [],
   "source": [
    "#copy atoms from conformation before QM and combine it with orca optimised conformations\n",
    "\n",
    "output_dir = \"pdb_opt/\"\n",
    "input_dir = \"bp86/output/outCluster\"\n",
    "\n",
    "!mkdir {output_dir}\n",
    "\n",
    "atoms = []\n",
    "with open(\"clustering/outClustersPDB/outCluster0.pdb\", \"r\") as ifile:\n",
    "    for line in ifile.readlines():\n",
    "        if \"ATOM\" in line:\n",
    "            atoms.append(line[:26])\n",
    "    \n",
    "for i in range(0, clusters_count):\n",
    "    hetatms = []\n",
    "    !babel -ixyz {input_dir}{i}/outCluster{i}.xyz -opdb {output_dir}temp_cluster_{i}.pdb\n",
    "    with open(\"{}temp_cluster_{}.pdb\".format(output_dir, i), \"r\") as ifile:\n",
    "        for line in ifile.readlines():\n",
    "            if \"HETATM\" in line:\n",
    "                hetatms.append(line[27:66])\n",
    "    with open(\"pdb_opt/cluster{}.pdb\".format(i), \"w\") as output_cluster:\n",
    "        for i in range(len(atoms)):\n",
    "            output_cluster.write(atoms[i])\n",
    "            output_cluster.write(hetatms[i] + \"\\n\")\n",
    "\n",
    "!rm {output_dir}/temp_*"
   ]
  },
  {
   "cell_type": "code",
   "execution_count": null,
   "metadata": {},
   "outputs": [],
   "source": [
    "input_dir = \"pdb_opt/\"\n",
    "output_file = \"clusters.pdb\"\n",
    "\n",
    "#concatinate optimised conformations to trajectory\n",
    "with open(output_file, \"w\") as ofile:\n",
    "    for i in range(0, clusters_count):\n",
    "        ofile.write(\"MODEL {}\\n\".format(str(i)))\n",
    "        with open(\"{}cluster{}.pdb\".format(input_dir, i), \"r\") as ifile:\n",
    "            ofile.write(ifile.read())\n",
    "            ofile.write(\"ENDMDL\\n\")\n",
    "\n",
    "with open(\"plumed.dat\", \"w\") as ifile:\n",
    "    cvs = []\n",
    "    ifile.write(\"WHOLEMOLECULES ENTITY0=1-{}\\n\".format(str(clusters_count)))\n",
    "    for i in range(0, len(torsions)):\n",
    "        cvs.append(\"cv{}\".format(i))\n",
    "        ifile.write(\"TORSION ATOMS=\")\n",
    "        ifile.write(\",\".join(str(x) for x in torsions[i]))\n",
    "        ifile.write(\" LABEL={}\\n\".format(cvs[i]))\n",
    "    ifile.write(\"PRINT ARG=\")\n",
    "    ifile.write(\",\".join(cvs))\n",
    "    ifile.write(\" STRIDE=1 FILE=DIHEDRALS\")\n",
    "\n",
    "#compute dihedrals\n",
    "!{plumed} driver --plumed plumed.dat --mf_pdb {output_file}\n",
    "\n",
    "lines = []\n",
    "with open(\"DIHEDRALS\", \"r\") as ifile:\n",
    "    for line in ifile.readlines():\n",
    "        if \"#\" not in line:\n",
    "            lines.append(line)\n",
    "with open(\"DIHEDRALS\", \"w\") as ofile:\n",
    "    for line in lines:\n",
    "        ofile.write(line)"
   ]
  },
  {
   "cell_type": "code",
   "execution_count": null,
   "metadata": {},
   "outputs": [],
   "source": [
    "#perform minimisations and compute GAFF energy\n",
    "\n",
    "cvs = [[]] * len(torsions)\n",
    "with open(\"DIHEDRALS\",\"r\") as ifile:\n",
    "    dihedrals = ifile.readlines()\n",
    "    for i in range(len(cvs)):\n",
    "        t_angles = cvs[i].split()\n",
    "        for j in range(len(torsions)):\n",
    "            cvs[j].append(float(t_angles[j])*(180/math.pi))\n",
    "\n",
    "def generate_restraint(cluster_i):\n",
    "    with open(\"MOL_GMX.top\", \"r\") as ifile, open(\"gaff/cluster_{}/restrained.top\".format(str(cluster_i)), \"w\"):\n",
    "        for line in ifile.readlines():\n",
    "            if line == \"; Ligand position restraints\\n\":\n",
    "                ofile.write(\"\\n\")\n",
    "                ofile.write(\"[ dihedral_restraints ]\\n\")\n",
    "                ofile.write(\" \".join(torsions[i]))\n",
    "                ofile.write(\"2 %3.1f 0 500\\n\")\n",
    "                ofile.write(\"\\n\")\n",
    "            ofile.write(line)\n",
    "!mkdir gaff\n",
    "\n",
    "#select groups for energy evaluation\n",
    "groups = \"10\"\n",
    "\n",
    "for i in range(0, clusters_count): \n",
    "    !mkdir gaff/cluster_{i}\n",
    "    shutil.copy(\"pdb_opt/cluster{}.pdb\".format(i), \"gaff/cluster_{}\".format(i))\n",
    "    shutil.copy(\"MOL_GMX.top\", \"gaff/cluster_{}\".format(i))\n",
    "    shutil.copy(\"em.mdp\", \"gaff/cluster_{}\".format(i))\n",
    "    shutil.copy(\"md.mdp\", \"gaff/cluster_{}\".format(i))\n",
    "    generate_restraint(i)\n",
    "    !{gromacs_s} -w /gaff/cluster_{i} -- editconf -f cluster{i}.pdb -box 3 3 3 -bt cubic -c -o box.gro\n",
    "    !{gromacs_s} -w /gaff/cluster_{i} -- grompp -f em -c box.gro -p restrained.top -o em1\n",
    "    !{gromacs_d} -w /gaff/cluster_{i} -- mdrun -ntomp 2 -s em1 -c after_em1 -g em1 -e em1 -o em1\n",
    "    !{gromacs_s} -w /gaff/cluster_{i} -- grompp -f md -c box.gro -p MOL_GMX.top -o rerun\n",
    "    !{gromacs_d} -w /gaff/cluster_{i} -- mdrun -ntomp 2 -s rerun -rerun em1 -c after_rerun -g rerun -e rerun -o rerun\n",
    "    !{gromacs_s} -w /gaff/cluster_{i} -g {groups} -- energy -f rerun.edr -o rerun.xvg\""
   ]
  },
  {
   "cell_type": "code",
   "execution_count": null,
   "metadata": {},
   "outputs": [],
   "source": [
    "#extract energies and from each energy value subtract minimal energy\n",
    "\n",
    "energies_lst = []\n",
    "\n",
    "for i in range(0, clusters_count):\n",
    "    with open(\"gaff/cluster_{}/rerun.xvg\".format(i, \"r\")) as ifile:\n",
    "        last_line = ifile.readlines()[-1]\n",
    "        energies = last_line.split(\" \")\n",
    "        energies_lst.append(energies[len(energies) - 1].rstrip())\n",
    "\n",
    "min_energy = min(energies_lst)\n",
    "with open(\"gaff_energies.txt\", \"w\") as ofile:\n",
    "    for energy in energies_lst:\n",
    "        ofile.write(\"{} \\n\".format((float(energy) - float(min_energy))))"
   ]
  },
  {
   "cell_type": "markdown",
   "metadata": {},
   "source": [
    "## 7. Define correction of force field"
   ]
  },
  {
   "cell_type": "code",
   "execution_count": null,
   "metadata": {},
   "outputs": [],
   "source": [
    "#subtract from orca energies computed in step 5, GAFF energies computed in step 6\n",
    "\n",
    "with open(\"reference\", \"w\") as ofile:\n",
    "    with open(\"orca_energies.txt\", \"r\") as orca_energies, open(\"gaff_energies.txt\", \"r\") as gaff_energies:\n",
    "        for orca_energy in orca_energies.readlines():\n",
    "            for gaff_energy in gaff_energies.readlines():\n",
    "                ofile.write(\"{} \\n\".format((float(orca_energy) - float(gaff_energy))))"
   ]
  },
  {
   "cell_type": "code",
   "execution_count": null,
   "metadata": {},
   "outputs": [],
   "source": [
    "#write final corrections into output file along with representative conformations\n",
    "\n",
    "input_dir = \"pdb_opt/\"\n",
    "\n",
    "with open(\"reference.pdb\", \"w\") as ofile, open(\"reference\", \"r\") as ifile:\n",
    "    final_energies = ifile.readlines()\n",
    "    for i in range(0, clusters_count):\n",
    "        ofile.write(\"REMARK X={}\".format(final_energies[i]))\n",
    "        with open(\"{}cluster{}.pdb\".format(input_dir, i), \"r\") as ifile1:\n",
    "            ofile.writelines(ifile1.readlines())"
   ]
  }
 ],
 "metadata": {
  "kernelspec": {
   "display_name": "Python 3",
   "language": "python",
   "name": "python3"
  },
  "language_info": {
   "codemirror_mode": {
    "name": "ipython",
    "version": 3
   },
   "file_extension": ".py",
   "mimetype": "text/x-python",
   "name": "python",
   "nbconvert_exporter": "python",
   "pygments_lexer": "ipython3",
   "version": "3.7.3"
  }
 },
 "nbformat": 4,
 "nbformat_minor": 2
}
