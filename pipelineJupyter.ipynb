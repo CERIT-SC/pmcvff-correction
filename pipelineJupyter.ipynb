{
 "cells": [
  {
   "cell_type": "code",
   "execution_count": null,
   "metadata": {},
   "outputs": [],
   "source": [
    "import os\n",
    "\n",
    "from rdkit import Chem\n",
    "from rdkit.Chem import Draw\n",
    "from rdkit.Chem import SDWriter\n",
    "from rdkit.Chem import AllChem\n",
    "from rdkit.Chem import MolFromSmarts\n",
    "from rdkit.Chem import rdmolops\n",
    "from rdkit.Chem import rdchem\n",
    "\n",
    "from molvs import Standardizer\n",
    "\n",
    "from draw_2d import *\n",
    "from draw_3d import drawit"
   ]
  },
  {
   "cell_type": "code",
   "execution_count": null,
   "metadata": {},
   "outputs": [],
   "source": [
    "ifilename = \"molekula.txt\"\n",
    "gromacs_s = \"/gromacs/bin/gmx\" #gmx_mpi\n",
    "gromacs_d = \"/gromacs/bin.AVX2_256/mdrun_d\" #double precision gromacs"
   ]
  },
  {
   "cell_type": "code",
   "execution_count": null,
   "metadata": {},
   "outputs": [],
   "source": [
    "ifile = open(ifilename, \"r\").readlines()\n",
    "smiles_molecule = str.split(ifile[0])[0]\n",
    "\n",
    "molecule = Chem.MolFromSmiles(smiles_molecule)\n",
    "\n",
    "render_svg(moltosvg(molecule))"
   ]
  },
  {
   "cell_type": "code",
   "execution_count": null,
   "metadata": {},
   "outputs": [],
   "source": [
    "smifile = open(\"molekula.smi\", \"w\")\n",
    "smifile.write(smiles_molecule)\n",
    "smifile.close()\n",
    "\n",
    "molecule = Chem.MolFromSmiles(smiles_molecule)\n",
    "s = Standardizer()\n",
    "molecule = s.standardize(molecule)\n",
    "molecule = Chem.AddHs(molecule)\n",
    "natoms = molecule.GetNumAtoms()\n",
    "\n",
    "render_svg(moltosvg(molecule))"
   ]
  },
  {
   "cell_type": "code",
   "execution_count": null,
   "metadata": {},
   "outputs": [],
   "source": [
    "#set parameters\n",
    "numc = 50 #00\n",
    "minid = 0\n",
    "minene = 100000000000.0"
   ]
  },
  {
   "cell_type": "code",
   "execution_count": null,
   "metadata": {},
   "outputs": [],
   "source": [
    "#find most stable configuration\n",
    "molecules = AllChem.EmbedMultipleConfs(molecule, clearConfs=True, numConfs=numc)\n",
    "done = AllChem.MMFFOptimizeMoleculeConfs(molecule)\n",
    "\n",
    "for i in range(len(done)):\n",
    "  if done[i][1]<minene:\n",
    "    minene = done[i][1]\n",
    "    minid = i\n",
    "print(f'minid: {minid}')\n",
    "print(f'minene: {minene}')\n",
    "\n",
    "writer = SDWriter(\"molekula.mol\")\n",
    "writer.write(molecule, confId=minid)\n",
    "\n",
    "drawit(molecule)"
   ]
  },
  {
   "cell_type": "code",
   "execution_count": null,
   "metadata": {},
   "outputs": [],
   "source": [
    "RotatableBond = Chem.MolFromSmarts('[!$([NH]!@C(=O))&!D1&!$(*#*)&!$([C;H3])&!$([O;H1])&!$([N;H3])]-&!@[!$([NH]!@C(=O))&!D1&!$(*#*)&!$([C;H3])&!$([O;H1])&!$([N;H3])]')\n",
    "rotatables = molecule.GetSubstructMatches(RotatableBond)\n",
    "print(rotatables)"
   ]
  },
  {
   "cell_type": "code",
   "execution_count": null,
   "metadata": {},
   "outputs": [],
   "source": [
    "torsions = []\n",
    "for rotatable in rotatables:\n",
    "  pairs1 = []\n",
    "  pairs2 = []\n",
    "  for bond in molecule.GetBonds():\n",
    "    if rotatable[0]==bond.GetBeginAtomIdx() and rotatable[1]!=bond.GetEndAtomIdx():\n",
    "      pairs1.append([bond.GetBeginAtomIdx(),bond.GetEndAtomIdx()])\n",
    "    if rotatable[1]==bond.GetBeginAtomIdx() and rotatable[0]!=bond.GetEndAtomIdx():\n",
    "      pairs2.append([bond.GetBeginAtomIdx(),bond.GetEndAtomIdx()])\n",
    "  torsions.append([pairs1[0][1],pairs1[0][0],pairs2[0][0],pairs2[0][1]])\n",
    "print(torsions)"
   ]
  },
  {
   "cell_type": "code",
   "execution_count": null,
   "metadata": {},
   "outputs": [],
   "source": [
    "netcharge = rdmolops.GetFormalCharge(molecule)\n",
    "command = \"antechamber -i molekula.mol -fi mdl -o molekula.prepi -fo prepi -c bcc -nc \"+str(netcharge)\n",
    "os.system(command)\n",
    "\n",
    "command = \"parmchk2 -i molekula.prepi -f prepi -o molekula.frcmod\"\n",
    "os.system(command)\n",
    "\n",
    "command = \"tleap -f tleapin.txt\"\n",
    "os.system(command)\n",
    "\n",
    "command = \"acpype -p molekula.prmtop -x molekula.inpcrd\"\n",
    "os.system(command)\n",
    "\n",
    "os.system(\"mkdir em\")\n",
    "emfile = open(\"em/em.mdp\", \"w\")\n",
    "emfile.write(\"integrator          =  steep\\n\")\n",
    "emfile.write(\"nsteps              =  100000\\n\")\n",
    "emfile.write(\"emtol               =  0\\n\")\n",
    "emfile.write(\"emstep              =  0.1\\n\")\n",
    "emfile.write(\"nstcomm             =  1\\n\")\n",
    "emfile.write(\"nstxout             =  100\\n\")\n",
    "emfile.write(\"nstvout             =  100\\n\")\n",
    "emfile.write(\"nstfout             =  0\\n\")\n",
    "emfile.write(\"nstlog              =  100\\n\")\n",
    "emfile.write(\"nstenergy           =  100\\n\")\n",
    "emfile.write(\"nstlist             =  1\\n\")\n",
    "emfile.write(\"ns_type             =  grid\\n\")\n",
    "emfile.write(\"coulombtype         =  cut-off\\n\")\n",
    "emfile.write(\"rlist               =  1.4\\n\")\n",
    "emfile.write(\"rcoulomb            =  1.4\\n\")\n",
    "emfile.write(\"rvdw                =  1.4\\n\")\n",
    "emfile.write(\"energygrps          =  System\\n\")\n",
    "emfile.write(\"epsilon-r           =  80\\n\")\n",
    "emfile.write(\"\\n\")\n",
    "emfile.close()\n",
    "os.system(\"cp MOL_GMX.gro em/\")\n",
    "os.system(\"cp MOL_GMX.top em/\")\n",
    "command = \"cd em; \" + gromacs_s + \" editconf -f MOL_GMX -o box -c -box 3 3 3\"\n",
    "os.system(command)\n",
    "command = \"cd em; \" + gromacs_s + \" grompp -f em.mdp -c box -p MOL_GMX -o em1\"\n",
    "os.system(command)\n",
    "command = \"cd em; \" + gromacs_d + \" -deffnm em1\"\n",
    "os.system(command)"
   ]
  },
  {
   "cell_type": "code",
   "execution_count": null,
   "metadata": {},
   "outputs": [],
   "source": [
    "os.system(\"mkdir md\")\n",
    "mdfile = open(\"md/md.mdp\", \"w\")\n",
    "mdfile.write(\"integrator          = sd\\n\")\n",
    "mdfile.write(\"nsteps              = 100000\\n\")\n",
    "mdfile.write(\"dt                  = 0.001\\n\")\n",
    "mdfile.write(\"nstxout             = 1000\\n\")\n",
    "mdfile.write(\"nstvout             = 1000\\n\")\n",
    "mdfile.write(\"nstenergy           = 1000\\n\")\n",
    "mdfile.write(\"nstlog              = 1000\\n\")\n",
    "mdfile.write(\"continuation        = no\\n\")\n",
    "mdfile.write(\"constraints         = none\\n\")\n",
    "mdfile.write(\"cutoff-scheme       = Verlet\\n\")\n",
    "mdfile.write(\"ns_type             = grid\\n\")\n",
    "mdfile.write(\"nstlist             = 1\\n\")\n",
    "mdfile.write(\"rlist               = 1.4\\n\")\n",
    "mdfile.write(\"rcoulomb            = 1.4\\n\")\n",
    "mdfile.write(\"rvdw                = 1.4\\n\")\n",
    "mdfile.write(\"coulombtype         = cut-off\\n\")\n",
    "mdfile.write(\"tcoupl              = V-rescale\\n\")\n",
    "mdfile.write(\"tc-grps             = system\\n\")\n",
    "mdfile.write(\"tau_t               = 0.1\\n\")\n",
    "mdfile.write(\"ref_t               = 300\\n\")\n",
    "mdfile.write(\"pcoupl              = no\\n\")\n",
    "mdfile.write(\"pbc                 = xyz\\n\")\n",
    "mdfile.write(\"gen_vel             = yes\\n\")\n",
    "mdfile.write(\"epsilon-r           = 80\\n\")\n",
    "mdfile.write(\"\\n\")\n",
    "mdfile.close()\n",
    "os.system(\"cp em/em1.gro md/\")\n",
    "os.system(\"cp MOL_GMX.top md/\")\n",
    "command = \"cd md; \" + gromacs_s + \" grompp -f md.mdp -c em1 -p MOL_GMX -o md1\"\n",
    "os.system(command)\n",
    "command = \"cd md; \" + gromacs_d + \" -deffnm md1\"\n",
    "os.system(command)"
   ]
  },
  {
   "cell_type": "code",
   "execution_count": null,
   "metadata": {},
   "outputs": [],
   "source": [
    "for i in range(len(torsions)):\n",
    "  fr = str(float(100-len(torsions)+i)-0.01)\n",
    "  to = str(float(100-len(torsions)+i)+0.01)\n",
    "  command = \"cd md; \" + gromacs_s + \" trjconv -s md1 -f md1 -o frame\"+str(i)+\".gro \\\n",
    "                                      -b \"+fr+\" -e \"+to+\"<<EOF\\n0\\nEOF \\\n",
    "                                      -pbc nojump mol\"\n",
    "  os.system(command)"
   ]
  },
  {
   "cell_type": "code",
   "execution_count": null,
   "metadata": {},
   "outputs": [],
   "source": [
    "os.system(\"mkdir mtd\")\n",
    "mtdfile = open(\"mtd/mtd.mdp\", \"w\")\n",
    "mtdfile.write(\"integrator          = sd\\n\")\n",
    "mtdfile.write(\"nsteps              = 1000000\\n\")\n",
    "mtdfile.write(\"dt                  = 0.001\\n\")\n",
    "mtdfile.write(\"nstxout             = 1000\\n\")\n",
    "mtdfile.write(\"nstvout             = 1000\\n\")\n",
    "mtdfile.write(\"nstenergy           = 1000\\n\")\n",
    "mtdfile.write(\"nstlog              = 1000\\n\")\n",
    "mtdfile.write(\"continuation        = no\\n\")\n",
    "mtdfile.write(\"constraints         = none\\n\")\n",
    "mtdfile.write(\"cutoff-scheme       = Verlet\\n\")\n",
    "mtdfile.write(\"ns_type             = grid\\n\")\n",
    "mtdfile.write(\"nstlist             = 1\\n\")\n",
    "mtdfile.write(\"rlist               = 1.4\\n\")\n",
    "mtdfile.write(\"rcoulomb            = 1.4\\n\")\n",
    "mtdfile.write(\"rvdw                = 1.4\\n\")\n",
    "mtdfile.write(\"coulombtype         = cut-off\\n\")\n",
    "mtdfile.write(\"tcoupl              = V-rescale\\n\")\n",
    "mtdfile.write(\"tc-grps             = system\\n\")\n",
    "mtdfile.write(\"tau_t               = 0.1\\n\")\n",
    "mtdfile.write(\"ref_t               = 300\\n\")\n",
    "mtdfile.write(\"pcoupl              = no\\n\")\n",
    "mtdfile.write(\"pbc                 = xyz\\n\")\n",
    "mtdfile.write(\"gen_vel             = yes\\n\")\n",
    "mtdfile.write(\"epsilon-r           = 80\\n\")\n",
    "mtdfile.write(\"\\n\")\n",
    "mtdfile.close()"
   ]
  },
  {
   "cell_type": "code",
   "execution_count": null,
   "metadata": {},
   "outputs": [],
   "source": [
    "for i in range(len(torsions)):\n",
    "  os.system(\"mkdir mtd/w\"+str(i))\n",
    "  plumeddat = open(\"mtd/w\"+str(i)+\"/plumed.dat\", \"w\")\n",
    "  plumeddat.write(\"RANDOM_EXCHANGES\\n\")\n",
    "  plumeddat.write(\"WHOLEMOLECULES ENTITY0=1-%i\\n\" % natoms)\n",
    "  for j in range(len(torsions)):\n",
    "    plumeddat.write(\"TORSION ATOMS=%i,%i,%i,%i LABEL=cv%i\\n\" % (torsions[j][0],torsions[j][1],torsions[j][2],torsions[j][3],j+1))\n",
    "  plumeddat.write(\"METAD ARG=cv%i HEIGHT=0.5 SIGMA=0.3 PACE=1000 GRID_MIN=-pi GRID_MAX=pi BIASFACTOR=15 LABEL=be\\n\" % (i+1))\n",
    "  cvs = \"\"\n",
    "  for j in range(len(torsions)):\n",
    "    cvs=cvs+\"cv\"+str(j+1)+\",\"\n",
    "  cvs = cvs[:-1]\n",
    "  plumeddat.write(\"PRINT ARG=%s STRIDE=1000 FILE=COLVAR\\n\" % cvs)\n",
    "  plumeddat.write(\"PRINT ARG=be.bias STRIDE=1000 FILE=BIAS\\n\")\n",
    "  plumeddat.close()\n",
    "\n",
    "#os.system(\"cp md/fra*.gro mtd/\")\n",
    "os.system(\"cp MOL_GMX.top mtd/\")"
   ]
  },
  {
   "cell_type": "code",
   "execution_count": null,
   "metadata": {},
   "outputs": [],
   "source": [
    "for i in range(len(torsions)):\n",
    "  os.system(\"cp md/frame\"+str(i)+\".gro mtd/w\"+str(i)+\"/\")\n",
    "  command = \"cd mtd/w\"+str(i)+\"; \" + gromacs_s + \" grompp -f ../mtd.mdp -c frame\"+str(i)+\" -p ../MOL_GMX -o mtd1\"\n",
    "  os.system(command)\n",
    "\n",
    "command = \"cd mtd; mpirun -np \"+str(len(torsions))+ \" \" + gromacs_d + \" -deffnm mtd1 -replex 500 -plumed plumed.dat -multidir \"\n",
    "for i in range(len(torsions)):\n",
    "  command = command + \"w\"+str(i)+\" \"\n",
    "os.system(command)"
   ]
  }
 ],
 "metadata": {
  "kernelspec": {
   "display_name": "Python 3",
   "language": "python",
   "name": "python3"
  },
  "language_info": {
   "codemirror_mode": {
    "name": "ipython",
    "version": 3
   },
   "file_extension": ".py",
   "mimetype": "text/x-python",
   "name": "python",
   "nbconvert_exporter": "python",
   "pygments_lexer": "ipython3",
   "version": "3.7.3"
  }
 },
 "nbformat": 4,
 "nbformat_minor": 2
}
