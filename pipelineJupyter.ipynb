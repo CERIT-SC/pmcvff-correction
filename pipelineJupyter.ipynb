{
 "cells": [
  {
   "cell_type": "code",
   "execution_count": null,
   "metadata": {},
   "outputs": [],
   "source": [
    "import os\n",
    "import sys\n",
    "\n",
    "from rdkit import Chem\n",
    "from rdkit.Chem import Draw\n",
    "from rdkit.Chem import SDWriter\n",
    "from rdkit.Chem import AllChem\n",
    "from rdkit.Chem import MolFromSmarts\n",
    "from rdkit.Chem import rdmolops\n",
    "from rdkit.Chem import rdchem\n",
    "\n",
    "from molvs import Standardizer\n",
    "\n",
    "#insert path to python scripts\n",
    "sys.path.insert(1, os.environ['BASE'] + \"/modules\")\n",
    "\n",
    "from draw_2d import *\n",
    "from draw_3d import drawit"
   ]
  },
  {
   "cell_type": "code",
   "execution_count": null,
   "metadata": {},
   "outputs": [],
   "source": [
    "ifilename = os.environ['BASE'] + \"/molekula.txt\"\n",
    "plumed = \"/opt/podman-run.py --root=/scratch.ssd/xvisnov1/tmp -v /work:/tmp ljocha/plumed plumed\"\n",
    "gromacs_s = \"/opt/gromacs/gromacs/gmx-docker\" #gmx_mpi\n",
    "gromacs_d = \"/opt/gromacs/gromacs/gmx-docker -d\" #double precision gromacs"
   ]
  },
  {
   "cell_type": "code",
   "execution_count": null,
   "metadata": {},
   "outputs": [],
   "source": [
    "ifile = open(ifilename, \"r\").readlines()\n",
    "smiles_molecule = str.split(ifile[0])[0]\n",
    "\n",
    "molecule = Chem.MolFromSmiles(smiles_molecule)\n",
    "\n",
    "render_svg(moltosvg(molecule))"
   ]
  },
  {
   "cell_type": "code",
   "execution_count": null,
   "metadata": {},
   "outputs": [],
   "source": [
    "smifile = open(\"molekula.smi\", \"w\")\n",
    "smifile.write(smiles_molecule)\n",
    "smifile.close()\n",
    "\n",
    "molecule = Chem.MolFromSmiles(smiles_molecule)\n",
    "s = Standardizer()\n",
    "molecule = s.standardize(molecule)\n",
    "molecule = Chem.AddHs(molecule)\n",
    "natoms = molecule.GetNumAtoms()\n",
    "\n",
    "render_svg(moltosvg(molecule))"
   ]
  },
  {
   "cell_type": "code",
   "execution_count": null,
   "metadata": {},
   "outputs": [],
   "source": [
    "#set parameters\n",
    "numc = 50 #00\n",
    "minid = 0\n",
    "minene = 100000000000.0"
   ]
  },
  {
   "cell_type": "code",
   "execution_count": null,
   "metadata": {},
   "outputs": [],
   "source": [
    "#find most stable configuration\n",
    "molecules = AllChem.EmbedMultipleConfs(molecule, clearConfs=True, numConfs=numc)\n",
    "done = AllChem.MMFFOptimizeMoleculeConfs(molecule)\n",
    "\n",
    "for i in range(len(done)):\n",
    "  if done[i][1]<minene:\n",
    "    minene = done[i][1]\n",
    "    minid = i\n",
    "print(f'minid: {minid}')\n",
    "print(f'minene: {minene}')\n",
    "\n",
    "writer = SDWriter(\"molekula.mol\")\n",
    "writer.write(molecule, confId=minid)\n",
    "\n",
    "drawit(molecule)"
   ]
  },
  {
   "cell_type": "code",
   "execution_count": null,
   "metadata": {},
   "outputs": [],
   "source": [
    "RotatableBond = Chem.MolFromSmarts('[!$([NH]!@C(=O))&!D1&!$(*#*)&!$([C;H3])&!$([O;H1])&!$([N;H3])]-&!@[!$([NH]!@C(=O))&!D1&!$(*#*)&!$([C;H3])&!$([O;H1])&!$([N;H3])]')\n",
    "rotatables = molecule.GetSubstructMatches(RotatableBond)\n",
    "print(rotatables)"
   ]
  },
  {
   "cell_type": "code",
   "execution_count": null,
   "metadata": {},
   "outputs": [],
   "source": [
    "torsions = []\n",
    "for rotatable in rotatables:\n",
    "  pairs1 = []\n",
    "  pairs2 = []\n",
    "  for bond in molecule.GetBonds():\n",
    "    if rotatable[0]==bond.GetBeginAtomIdx() and rotatable[1]!=bond.GetEndAtomIdx():\n",
    "      pairs1.append([bond.GetBeginAtomIdx(),bond.GetEndAtomIdx()])\n",
    "    if rotatable[1]==bond.GetBeginAtomIdx() and rotatable[0]!=bond.GetEndAtomIdx():\n",
    "      pairs2.append([bond.GetBeginAtomIdx(),bond.GetEndAtomIdx()])\n",
    "  torsions.append([pairs1[0][1],pairs1[0][0],pairs2[0][0],pairs2[0][1]])\n",
    "print(torsions)"
   ]
  },
  {
   "cell_type": "code",
   "execution_count": null,
   "metadata": {},
   "outputs": [],
   "source": [
    "netcharge = rdmolops.GetFormalCharge(molecule)\n",
    "command = \"antechamber -i molekula.mol -fi mdl -o molekula.prepi \\\n",
    "           -fo prepi -c bcc -nc \"+str(netcharge)\n",
    "os.system(command)\n",
    "\n",
    "command = \"parmchk2 -i molekula.prepi -f prepi -o molekula.frcmod\"\n",
    "os.system(command)\n",
    "\n",
    "command = \"tleap -f tleapin.txt\"\n",
    "os.system(command)\n",
    "\n",
    "command = \"acpype -p molekula.prmtop -x molekula.inpcrd\"\n",
    "os.system(command)\n",
    "\n",
    "os.system(\"mkdir em\")\n",
    "emfile = open(\"em/em.mdp\", \"w\")\n",
    "emfile.write(\"integrator          =  steep\\n\")\n",
    "emfile.write(\"nsteps              =  100000\\n\")\n",
    "emfile.write(\"emtol               =  0\\n\")\n",
    "emfile.write(\"emstep              =  0.1\\n\")\n",
    "emfile.write(\"nstcomm             =  1\\n\")\n",
    "emfile.write(\"nstxout             =  100\\n\")\n",
    "emfile.write(\"nstvout             =  100\\n\")\n",
    "emfile.write(\"nstfout             =  0\\n\")\n",
    "emfile.write(\"nstlog              =  100\\n\")\n",
    "emfile.write(\"nstenergy           =  100\\n\")\n",
    "emfile.write(\"nstlist             =  1\\n\")\n",
    "emfile.write(\"ns_type             =  grid\\n\")\n",
    "emfile.write(\"coulombtype         =  cut-off\\n\")\n",
    "emfile.write(\"rlist               =  1.4\\n\")\n",
    "emfile.write(\"rcoulomb            =  1.4\\n\")\n",
    "emfile.write(\"rvdw                =  1.4\\n\")\n",
    "emfile.write(\"energygrps          =  System\\n\")\n",
    "emfile.write(\"epsilon-r           =  80\\n\")\n",
    "emfile.write(\"\\n\")\n",
    "emfile.close()\n",
    "os.system(\"cp MOL_GMX.gro em/\")\n",
    "os.system(\"cp MOL_GMX.top em/\")\n",
    "command = gromacs_s + \" -w /em editconf -f MOL_GMX -o box -c -box 3 3 3\"\n",
    "os.system(command)\n",
    "command = gromacs_s + \" -w /em grompp -f em.mdp -c box -p MOL_GMX -o em1\"\n",
    "os.system(command)\n",
    "command = gromacs_d + \" -w /em mdrun -deffnm em1\"\n",
    "os.system(command)"
   ]
  },
  {
   "cell_type": "code",
   "execution_count": null,
   "metadata": {},
   "outputs": [],
   "source": [
    "os.system(\"mkdir md\")\n",
    "mdfile = open(\"md/md.mdp\", \"w\")\n",
    "mdfile.write(\"integrator          = sd\\n\")\n",
    "mdfile.write(\"nsteps              = 100000\\n\")\n",
    "mdfile.write(\"dt                  = 0.001\\n\")\n",
    "mdfile.write(\"nstxout             = 1000\\n\")\n",
    "mdfile.write(\"nstvout             = 1000\\n\")\n",
    "mdfile.write(\"nstenergy           = 1000\\n\")\n",
    "mdfile.write(\"nstlog              = 1000\\n\")\n",
    "mdfile.write(\"continuation        = no\\n\")\n",
    "mdfile.write(\"constraints         = none\\n\")\n",
    "mdfile.write(\"cutoff-scheme       = Verlet\\n\")\n",
    "mdfile.write(\"ns_type             = grid\\n\")\n",
    "mdfile.write(\"nstlist             = 1\\n\")\n",
    "mdfile.write(\"rlist               = 1.4\\n\")\n",
    "mdfile.write(\"rcoulomb            = 1.4\\n\")\n",
    "mdfile.write(\"rvdw                = 1.4\\n\")\n",
    "mdfile.write(\"coulombtype         = cut-off\\n\")\n",
    "mdfile.write(\"tcoupl              = V-rescale\\n\")\n",
    "mdfile.write(\"tc-grps             = system\\n\")\n",
    "mdfile.write(\"tau_t               = 0.1\\n\")\n",
    "mdfile.write(\"ref_t               = 300\\n\")\n",
    "mdfile.write(\"pcoupl              = no\\n\")\n",
    "mdfile.write(\"pbc                 = xyz\\n\")\n",
    "mdfile.write(\"gen_vel             = yes\\n\")\n",
    "mdfile.write(\"epsilon-r           = 80\\n\")\n",
    "mdfile.write(\"\\n\")\n",
    "mdfile.close()\n",
    "os.system(\"cp em/em1.gro md/\")\n",
    "os.system(\"cp MOL_GMX.top md/\")\n",
    "command = gromacs_s + \" -w /md grompp -f md.mdp -c em1 -p MOL_GMX -o md1\"\n",
    "os.system(command)\n",
    "command = gromacs_d + \" -w /md mdrun -deffnm md1\"\n",
    "os.system(command)"
   ]
  },
  {
   "cell_type": "code",
   "execution_count": null,
   "metadata": {},
   "outputs": [],
   "source": [
    "command = \"echo 0 | \" + gromacs_s + \" trjconv -s md/md1.tpr -f md/md1.trr -o outTraj.pdb\"\n",
    "os.system(command)\n",
    "\n",
    "import nglview as nv\n",
    "import pytraj as pt\n",
    "\n",
    "traj = pt.load('outTraj.pdb')\n",
    "view = nv.show_pytraj(traj)\n",
    "view"
   ]
  },
  {
   "cell_type": "code",
   "execution_count": null,
   "metadata": {},
   "outputs": [],
   "source": [
    "for i in range(len(torsions)):\n",
    "  fr = str(float(100-len(torsions)+i)-0.01)\n",
    "  to = str(float(100-len(torsions)+i)+0.01)\n",
    "  command = gromacs_s + \" -w /md trjconv -pbc nojump \\\n",
    "                                      -s md1 -f md1 -o frame\"+str(i)+\".gro \\\n",
    "                                      -b \"+fr+\" -e \"+to+\"<<EOF\\n0\\nEOF\"\n",
    "  os.system(command)"
   ]
  },
  {
   "cell_type": "code",
   "execution_count": null,
   "metadata": {},
   "outputs": [],
   "source": [
    "os.system(\"mkdir mtd\")\n",
    "mtdfile = open(\"mtd/mtd.mdp\", \"w\")\n",
    "mtdfile.write(\"integrator          = sd\\n\")\n",
    "mtdfile.write(\"nsteps              = 1000000\\n\")\n",
    "mtdfile.write(\"dt                  = 0.001\\n\")\n",
    "mtdfile.write(\"nstxout             = 1000\\n\")\n",
    "mtdfile.write(\"nstvout             = 1000\\n\")\n",
    "mtdfile.write(\"nstenergy           = 1000\\n\")\n",
    "mtdfile.write(\"nstlog              = 1000\\n\")\n",
    "mtdfile.write(\"continuation        = no\\n\")\n",
    "mtdfile.write(\"constraints         = none\\n\")\n",
    "mtdfile.write(\"cutoff-scheme       = Verlet\\n\")\n",
    "mtdfile.write(\"ns_type             = grid\\n\")\n",
    "mtdfile.write(\"nstlist             = 1\\n\")\n",
    "mtdfile.write(\"rlist               = 1.4\\n\")\n",
    "mtdfile.write(\"rcoulomb            = 1.4\\n\")\n",
    "mtdfile.write(\"rvdw                = 1.4\\n\")\n",
    "mtdfile.write(\"coulombtype         = cut-off\\n\")\n",
    "mtdfile.write(\"tcoupl              = V-rescale\\n\")\n",
    "mtdfile.write(\"tc-grps             = system\\n\")\n",
    "mtdfile.write(\"tau_t               = 0.1\\n\")\n",
    "mtdfile.write(\"ref_t               = 300\\n\")\n",
    "mtdfile.write(\"pcoupl              = no\\n\")\n",
    "mtdfile.write(\"pbc                 = xyz\\n\")\n",
    "mtdfile.write(\"gen_vel             = yes\\n\")\n",
    "mtdfile.write(\"epsilon-r           = 80\\n\")\n",
    "mtdfile.write(\"\\n\")\n",
    "mtdfile.close()"
   ]
  },
  {
   "cell_type": "code",
   "execution_count": null,
   "metadata": {},
   "outputs": [],
   "source": [
    "for i in range(len(torsions)):\n",
    "  os.system(\"mkdir mtd/w\"+str(i))\n",
    "  plumeddat = open(\"mtd/w\"+str(i)+\"/plumed.dat\", \"w\")\n",
    "  plumeddat.write(\"RANDOM_EXCHANGES\\n\")\n",
    "  plumeddat.write(\"WHOLEMOLECULES ENTITY0=1-%i\\n\" % natoms)\n",
    "  for j in range(len(torsions)):\n",
    "    plumeddat.write(\"TORSION ATOMS=%i,%i,%i,%i LABEL=cv%i\\n\" % (torsions[j][0],torsions[j][1],torsions[j][2],torsions[j][3],j+1))\n",
    "  plumeddat.write(\"METAD ARG=cv%i HEIGHT=0.5 SIGMA=0.3 PACE=1000 GRID_MIN=-pi GRID_MAX=pi BIASFACTOR=15 LABEL=be\\n\" % (i+1))\n",
    "  cvs = \"\"\n",
    "  for j in range(len(torsions)):\n",
    "    cvs=cvs+\"cv\"+str(j+1)+\",\"\n",
    "  cvs = cvs[:-1]\n",
    "  plumeddat.write(\"PRINT ARG=%s STRIDE=1000 FILE=COLVAR\\n\" % cvs)\n",
    "  plumeddat.write(\"PRINT ARG=be.bias STRIDE=1000 FILE=BIAS\\n\")\n",
    "  plumeddat.close()\n",
    "\n",
    "os.system(\"cp MOL_GMX.top mtd/\")"
   ]
  },
  {
   "cell_type": "code",
   "execution_count": null,
   "metadata": {},
   "outputs": [],
   "source": [
    "for i in range(len(torsions)):\n",
    "  os.system(\"cp md/frame\"+str(i)+\".* mtd/w\"+str(i)+\"/\")\n",
    "  command = gromacs_s + \" -w /mtd grompp -f mtd.mdp -c w\" +str(i)+\"/frame\"+str(i)+\" -p MOL_GMX -o w\" +str(i)+\"/mtd1\"\n",
    "  os.system(command)"
   ]
  },
  {
   "cell_type": "code",
   "execution_count": null,
   "metadata": {},
   "outputs": [],
   "source": [
    "command = gromacs_d + \" -d -n \"+ str(len(torsions)) +\" -w /mtd mdrun -deffnm mtd1 -replex 500 -plumed plumed.dat -multidir \"\n",
    "for i in range(len(torsions)):\n",
    "  command = command + \"w\"+str(i)+\" \"\n",
    "os.system(command)"
   ]
  },
  {
   "cell_type": "code",
   "execution_count": null,
   "metadata": {},
   "outputs": [],
   "source": [
    "#cluster structures\n",
    "command = \"(echo 0; sleep 1; echo 0) | \" + gromacs_s + \" cluster -method gromos -cl clustering/outCluster.pdb -s md/md1.tpr -f md/md1.trr\"\n",
    "os.system(command)"
   ]
  },
  {
   "cell_type": "code",
   "execution_count": null,
   "metadata": {},
   "outputs": [],
   "source": [
    "#divide all clusters from gmx cluster to single clusters\n",
    "with open(\"clustering/outCluster.pdb\") as input_cluster:\n",
    "    i = 0\n",
    "    outFile = open(\"clustering/outClustersPDB/outCluster\" + str(i) + \".pdb\", \"w\")\n",
    "    for line in input_cluster:\n",
    "        if line != \"ENDMDL\\n\":\n",
    "            outFile.write(line)\n",
    "            continue\n",
    "        outFile.write(\"ENDMDL\\n\")\n",
    "        i += 1\n",
    "        outFile = open(\"clustering/outClustersPDB/outCluster\" + str(i) + \".pdb\", \"w\")\n",
    "os.system(\"rm clustering/outClustersPDB/outCluster\" + str(i) + \".pdb\")\n",
    "clusters_count = i"
   ]
  },
  {
   "cell_type": "code",
   "execution_count": null,
   "metadata": {},
   "outputs": [],
   "source": [
    "from convert import *\n",
    "from execute_orca import *\n",
    "\n",
    "#convert .pdb clusters to .xyz\n",
    "for pdb_cluster in os.listdir(\"clustering/outClustersPDB/\"):\n",
    "    command = \"babel -ipdb clustering/outClustersPDB/\" + pdb_cluster + \" -oxyz clustering/outClustersXYZ/\" + pdb_cluster.replace(\"pdb\", \"xyz\")\n",
    "    os.system(command)"
   ]
  },
  {
   "cell_type": "code",
   "execution_count": null,
   "metadata": {},
   "outputs": [],
   "source": [
    "#convert to !Am1 Opt methods\n",
    "convert_to_orca_methods(\"clustering/outClustersXYZ/\", \"/work/am1/input/\", torsions, \"!AM1 Opt\")"
   ]
  },
  {
   "cell_type": "code",
   "execution_count": null,
   "metadata": {},
   "outputs": [],
   "source": [
    "#execute !Am1 Opt orca methods\n",
    "execute_orca(\"/work/am1/input/\", \"/work/am1/output/\")"
   ]
  },
  {
   "cell_type": "code",
   "execution_count": null,
   "metadata": {},
   "outputs": [],
   "source": [
    "#convert to !BP86 def2-TZVP TightSCF Opt methods\n",
    "numOfDirectories = sum(os.path.isdir(os.path.join(\"/work/am1/output/\", i)) for i in os.listdir(\"/work/am1/output/\"))\n",
    "for i in range(0, numOfDirectories):\n",
    "    convert_to_orca_methods(\"/work/am1/output/outCluster\" + str(i) + \"/\", \"/work/bp86/input/\", torsions, \"!BP86 def2-TZVP TightSCF Opt\")"
   ]
  },
  {
   "cell_type": "code",
   "execution_count": null,
   "metadata": {},
   "outputs": [],
   "source": [
    "#execute !BP86 def2-TZVP TightSCF Opt orca methods\n",
    "execute_orca(\"/work/bp86/input/\", \"/work/bp86/output/\")"
   ]
  },
  {
   "cell_type": "code",
   "execution_count": null,
   "metadata": {},
   "outputs": [],
   "source": [
    "import re\n",
    "\n",
    "orca_output_file = \"orca_output.txt\"\n",
    "orca_energies_file = \"orca_energies.txt\"\n",
    "energies_touples = []\n",
    "\n",
    "with open(orca_output_file) as orca_output:\n",
    "    orca_output_string = orca_output.read()\n",
    "    energies_touples = re.findall(r'(FINAL SINGLE POINT ENERGY)( +)(-?\\d+\\.\\d+)', orca_output_string)\n",
    "\n",
    "orca_energies = open(orca_energies_file, \"w\")\n",
    "for energy_touple in energies_touples:\n",
    "    orca_energies.write(energy_touple[2])\n",
    "    orca_energies.write('\\n')\n",
    "orca_energies.close()"
   ]
  },
  {
   "cell_type": "code",
   "execution_count": null,
   "metadata": {},
   "outputs": [],
   "source": [
    "ifile = open(\"orca_energies.txt\", \"r\")\n",
    "\n",
    "energies_in_hartree = []\n",
    "\n",
    "for line in ifile.readlines():\n",
    "    energies_in_hartree.append(float(line))\n",
    "\n",
    "ifile.close()\n",
    "\n",
    "minimum = min(energies_in_hartree)\n",
    "\n",
    "energies_in_kJ = []\n",
    "CONVERSION_CONST = 2625.499638\n",
    "\n",
    "for H in energies_in_hartree:\n",
    "    energies_in_kJ.append((H-minimum)*CONVERSION_CONST)\n",
    "\n",
    "ofile = open(\"orca_energies_in_kJ.txt\", \"w\")\n",
    "\n",
    "for energy in energies_in_kJ:\n",
    "    ofile.write(str(energy) + \"\\n\")\n",
    "\n",
    "ofile.close()"
   ]
  },
  {
   "cell_type": "code",
   "execution_count": null,
   "metadata": {},
   "outputs": [],
   "source": [
    "import os\n",
    "\n",
    "output_dir = \"/work/pdb_opt/\"\n",
    "#input_dir = \"/work/bp86/output/\"\n",
    "input_dir = \"output/\"\n",
    "\n",
    "os.system(\"mkdir \" + output_dir)\n",
    "\n",
    "#ifile = open(\"/work/clustering/outClustersPDB/outCluster0.pdb\", \"r\")\n",
    "ifile = open(\"cluster_1.pdb\", \"r\")\n",
    "atoms = []\n",
    "for line in ifile.readlines():\n",
    "    if \"ATOM\" in line:\n",
    "        atoms.append(line[:26])\n",
    "ifile.close()\n",
    "        \n",
    "#clusters_count\n",
    "for i in range(0, 11):\n",
    "    hetatms = []\n",
    "    os.system(\"babel -ixyz {}outCluster{}.xyz -opdb {}temp_cluster_{}.pdb\".format(input_dir, str(i), output_dir, str(i)))\n",
    "    ifile1 = open(\"{}temp_cluster_{}.pdb\".format(output_dir, str(i)))\n",
    "    for line in ifile1.readlines():\n",
    "        if \"HETATM\" in line:\n",
    "            hetatms.append(line[27:66])\n",
    "    ifile1.close()\n",
    "    output_cluster = open(\"pdb_opt/cluster{}.pdb\".format(str(i)), \"w\")\n",
    "    for i in range(len(atoms)):\n",
    "        output_cluster.write(atoms[i])\n",
    "        output_cluster.write(hetatms[i] + \"\\n\")\n",
    "    output_cluster.close()\n",
    "\n",
    "os.system(\"rm {}temp_*\".format(output_dir))"
   ]
  },
  {
   "cell_type": "code",
   "execution_count": null,
   "metadata": {},
   "outputs": [],
   "source": [
    "input_dir = \"/work/pdb_opt/\"\n",
    "output_file = \"clusters.pdb\"\n",
    "ifile = open(output_file, \"w\")\n",
    "\n",
    "#clusters_count\n",
    "for i in range(0, 11):\n",
    "    ifile.write(\"MODEL {}\\n\".format(str(i)))\n",
    "    ifile1 = open(\"{}cluster{}.pdb\".format(input_dir, str(i)), \"r\")\n",
    "    ifile.write(ifile1.read())\n",
    "    ifile.write(\"ENDMDL\\n\")\n",
    "    ifile1.close()\n",
    "ifile.close()\n",
    "\n",
    "os.system(\"{} driver --plumed plumed.dat --mf_pdb {}\".format(plumed, output_file))"
   ]
  }
 ],
 "metadata": {
  "kernelspec": {
   "display_name": "Python 3",
   "language": "python",
   "name": "python3"
  },
  "language_info": {
   "codemirror_mode": {
    "name": "ipython",
    "version": 3
   },
   "file_extension": ".py",
   "mimetype": "text/x-python",
   "name": "python",
   "nbconvert_exporter": "python",
   "pygments_lexer": "ipython3",
   "version": "3.7.3"
  }
 },
 "nbformat": 4,
 "nbformat_minor": 2
}
